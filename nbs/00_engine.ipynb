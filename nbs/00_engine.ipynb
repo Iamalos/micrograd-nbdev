{
 "cells": [
  {
   "cell_type": "markdown",
   "metadata": {},
   "source": [
    "# engine\n",
    "\n",
    "> Simple engine that calculates gradients and backpropagates. Can be used in a simple neural net"
   ]
  },
  {
   "cell_type": "code",
   "execution_count": null,
   "metadata": {},
   "outputs": [],
   "source": [
    "#| default_exp engine"
   ]
  },
  {
   "cell_type": "code",
   "execution_count": null,
   "metadata": {},
   "outputs": [
    {
     "name": "stdout",
     "output_type": "stream",
     "text": [
      "The autoreload extension is already loaded. To reload it, use:\n",
      "  %reload_ext autoreload\n"
     ]
    }
   ],
   "source": [
    "#| hide\n",
    "from nbdev.showdoc import *\n",
    "from fastcore.test import *\n",
    "import torch\n",
    "import math\n",
    "\n",
    "%load_ext autoreload\n",
    "%autoreload 2"
   ]
  },
  {
   "cell_type": "code",
   "execution_count": null,
   "metadata": {},
   "outputs": [],
   "source": [
    "#| export\n",
    "class Value:\n",
    "    def __init__(self,\n",
    "                 data, # numeric value wrapped by `Value`\n",
    "                 _children=(), # inputs to a given `Value`\n",
    "                 _op='', # operation that resulted in a given `Value`\n",
    "                ):\n",
    "        self.data = data\n",
    "        self._prev = set(_children)\n",
    "        self.op = _op\n",
    "    \n",
    "    @staticmethod\n",
    "    def _wrap(x):\n",
    "        \"Wrap x in Value\"\n",
    "        return x if isinstance(x, Value) else Value(x)\n",
    "        \n",
    "    def __add__(self, other):\n",
    "        \"self + other\"\n",
    "        other = self._wrap(other)\n",
    "        out = Value(self.data + other.data, (self, other), _op='+')\n",
    "        return out\n",
    "        \n",
    "    def __radd__(self, other):\n",
    "        \"other + self\"\n",
    "        return self + other\n",
    "    \n",
    "    def __sub__(self, other):\n",
    "        \"self - other\"\n",
    "        return self + (-other)\n",
    "    \n",
    "    def __rsub__(self, other):\n",
    "        \"other - self\"\n",
    "        return other + (-self)\n",
    "    \n",
    "    def __mul__(self, other):\n",
    "        \"self * other\"\n",
    "        other = self._wrap(other)\n",
    "        out = Value(self.data * other.data, (self, other), _op='*')\n",
    "        return out\n",
    "    \n",
    "    def __rmul__(self, other):\n",
    "        \"other * mult\"\n",
    "        return self * other\n",
    " \n",
    "    def __pow__(self, other):\n",
    "        \"self ** other. Other should be int or float\"\n",
    "        assert isinstance(other, (int,float)), f\"{other} must be int or float\"\n",
    "        out = Value(self.data ** other, (self,), f\"**{other}\")\n",
    "        return out\n",
    "    \n",
    "    def __truediv__(self, other):\n",
    "        \"self / other\"\n",
    "        return self * other**-1\n",
    "    \n",
    "    def __rtruediv__(self, other):\n",
    "        \"other / self\"\n",
    "        return other * self**-1\n",
    "    \n",
    "    def __neg__(self):\n",
    "        \"-self\"\n",
    "        return self *-1\n",
    "    \n",
    "    def tanh(self):\n",
    "        \"tanh\"\n",
    "        out = Value(math.tanh(self.value), (self,) , 'tanh')\n",
    "        return out\n",
    "        \n",
    "    def relu(self):\n",
    "        \"relu\"\n",
    "        out = Value(max(self.data,0), (self,), 'relu')\n",
    "        return out\n",
    "        \n",
    "    def __repr__(self):\n",
    "        return f'Value(data={self.data})'"
   ]
  },
  {
   "cell_type": "code",
   "execution_count": null,
   "metadata": {},
   "outputs": [],
   "source": [
    "#Value.relu(b)"
   ]
  },
  {
   "cell_type": "code",
   "execution_count": null,
   "metadata": {},
   "outputs": [],
   "source": [
    "a = Value(-4.0)\n",
    "b = Value(6.0)\n",
    "\n",
    "test_eq((a+b).data, -4+6)\n",
    "test_eq((a-b).data, -4-6)\n",
    "test_eq((a/b).data, -4/6)\n",
    "test_eq((a**2).data, (-4)**2)"
   ]
  },
  {
   "cell_type": "code",
   "execution_count": null,
   "metadata": {},
   "outputs": [],
   "source": []
  },
  {
   "cell_type": "code",
   "execution_count": null,
   "metadata": {},
   "outputs": [
    {
     "data": {
      "text/markdown": [
       "---\n",
       "\n",
       "[source](https://github.com/Iamalos/micrograd-nbdev/blob/main/micrograd_nbdev/engine.py#L73){target=\"_blank\" style=\"float:right; font-size:smaller\"}\n",
       "\n",
       "### Value.relu\n",
       "\n",
       ">      Value.relu ()\n",
       "\n",
       "relu"
      ],
      "text/plain": [
       "---\n",
       "\n",
       "[source](https://github.com/Iamalos/micrograd-nbdev/blob/main/micrograd_nbdev/engine.py#L73){target=\"_blank\" style=\"float:right; font-size:smaller\"}\n",
       "\n",
       "### Value.relu\n",
       "\n",
       ">      Value.relu ()\n",
       "\n",
       "relu"
      ]
     },
     "execution_count": null,
     "metadata": {},
     "output_type": "execute_result"
    }
   ],
   "source": [
    "show_doc(Value.relu)"
   ]
  },
  {
   "cell_type": "code",
   "execution_count": null,
   "metadata": {},
   "outputs": [],
   "source": []
  },
  {
   "cell_type": "code",
   "execution_count": null,
   "metadata": {},
   "outputs": [],
   "source": [
    "#| hide\n",
    "import nbdev; nbdev.nbdev_export()"
   ]
  },
  {
   "cell_type": "code",
   "execution_count": null,
   "metadata": {},
   "outputs": [],
   "source": []
  }
 ],
 "metadata": {
  "kernelspec": {
   "display_name": "Python 3 (ipykernel)",
   "language": "python",
   "name": "python3"
  }
 },
 "nbformat": 4,
 "nbformat_minor": 4
}
