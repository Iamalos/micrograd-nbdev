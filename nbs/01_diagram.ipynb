{
 "cells": [
  {
   "cell_type": "markdown",
   "id": "223c94d1-55c1-40b1-a442-0b04a01f4ea3",
   "metadata": {},
   "source": [
    "# diagram\n",
    "> graphviz DOT language to plot diagrams of the flow of calculation"
   ]
  },
  {
   "cell_type": "code",
   "execution_count": null,
   "id": "d2c4edf4-9cfd-467b-9046-34e4610e3581",
   "metadata": {},
   "outputs": [],
   "source": [
    "#| default_exp diagram"
   ]
  },
  {
   "cell_type": "code",
   "execution_count": null,
   "id": "e0a27cce-df85-46fc-9665-7f8675f0e308",
   "metadata": {},
   "outputs": [],
   "source": [
    "#| hide\n",
    "%reload_ext autoreload\n",
    "%autoreload 2"
   ]
  },
  {
   "cell_type": "code",
   "execution_count": null,
   "id": "9bad6792-9612-4f8e-8214-d858e2d1ce42",
   "metadata": {},
   "outputs": [],
   "source": [
    "#| export\n",
    "from micrograd_nbdev.engine import Value\n",
    "from graphviz import Digraph"
   ]
  },
  {
   "cell_type": "code",
   "execution_count": null,
   "id": "c0042f0c-102c-4544-ad48-350fc936b034",
   "metadata": {},
   "outputs": [],
   "source": [
    "#| export\n",
    "def trace(root # `Value` node\n",
    "         ):\n",
    "    # each node of the calculation. List can be used as well for nodes and edges\n",
    "    nodes = set()\n",
    "    # each child of each node. For nodes that are not the result of an operation there will be none\n",
    "    edges = set()\n",
    "    def get_children(node):\n",
    "        if node not in nodes:\n",
    "            nodes.add(node)\n",
    "            for child in node._prev:\n",
    "                edges.add((node, child))\n",
    "                get_children(child)\n",
    "    \n",
    "    get_children(root)\n",
    "    return nodes, edges"
   ]
  },
  {
   "cell_type": "code",
   "execution_count": null,
   "id": "d181a0fc-4922-4f99-87b7-016492b57131",
   "metadata": {},
   "outputs": [
    {
     "data": {
      "text/plain": [
       "({Value(data=-2.0),\n",
       "  Value(data=-3.0),\n",
       "  Value(data=-6.0),\n",
       "  Value(data=-8.0),\n",
       "  Value(data=10.0),\n",
       "  Value(data=2.0),\n",
       "  Value(data=4.0)},\n",
       " {(Value(data=-6.0), Value(data=-3.0)),\n",
       "  (Value(data=-6.0), Value(data=2.0)),\n",
       "  (Value(data=-8.0), Value(data=-2.0)),\n",
       "  (Value(data=-8.0), Value(data=4.0)),\n",
       "  (Value(data=4.0), Value(data=-6.0)),\n",
       "  (Value(data=4.0), Value(data=10.0))})"
      ]
     },
     "execution_count": null,
     "metadata": {},
     "output_type": "execute_result"
    }
   ],
   "source": [
    "a = Value(2.0, label='a') # 2\n",
    "b = Value(-3.0, label='b') # -3\n",
    "c = Value(10.0, label='c') # 10\n",
    "e = a*b; e.label = 'e' # -6\n",
    "d = e + c; d.label = 'd' # 4\n",
    "f = Value(-2.0, label='f') # -2\n",
    "L = d*f; L.label='L' # -8\n",
    "L\n",
    "trace(L)"
   ]
  },
  {
   "cell_type": "code",
   "execution_count": null,
   "id": "1ef826df-2df0-43bc-8d05-f9186b1179df",
   "metadata": {},
   "outputs": [],
   "source": [
    "#| export\n",
    "def draw_dot(root, # final node from which to trace\n",
    "              format='svg', # rendering output format of DOT\n",
    "              rankdir='LR' # TB (top to bottom graph) | LR (left to right)\n",
    "             ):\n",
    "    assert rankdir in ['LR', 'TB']\n",
    "    nodes, edges = trace(root)\n",
    "    dot = Digraph(format=format, graph_attr={'rankdir':rankdir})\n",
    "    \n",
    "    for node in nodes:\n",
    "        uid = str(id(node))\n",
    "        # curly brackets are required to have a horizontal layout\n",
    "        dot.node(uid, label = f\"{{ {node.label} | {node.data :.4f} | {node.grad :.4f}}}\", shape='record')\n",
    "        #dot.node(uid, label = \"%s | %.4f | %.4f\" %(node.label, node.data, node.grad), shape='record')\n",
    "        if node._op:\n",
    "            dot.node(node._op+uid, label = node._op)\n",
    "            dot.edge(node._op+uid, uid)\n",
    "\n",
    "    for node, child in edges:\n",
    "        # children are connected to nodes via operations\n",
    "        dot.edge(str(id(child)), node._op+str(id(node)))\n",
    "\n",
    "    return dot"
   ]
  },
  {
   "cell_type": "markdown",
   "id": "754e6c92-68ce-4df3-addd-09f54d9ac354",
   "metadata": {},
   "source": [
    "### Examples"
   ]
  },
  {
   "cell_type": "code",
   "execution_count": null,
   "id": "f25efadc-33eb-42f6-b1cb-da55e6a585e5",
   "metadata": {},
   "outputs": [],
   "source": [
    "#draw_dot(L)"
   ]
  },
  {
   "cell_type": "code",
   "execution_count": null,
   "id": "924f57ea-7ede-4589-be9d-bce5d9fbcc5e",
   "metadata": {},
   "outputs": [
    {
     "data": {
      "text/plain": [
       "Value(data=-20.0)"
      ]
     },
     "execution_count": null,
     "metadata": {},
     "output_type": "execute_result"
    }
   ],
   "source": [
    "x = Value(-4.0)\n",
    "z = 2 * x + 2 + x\n",
    "q = z.relu() + z * x\n",
    "h = (z * z).relu()\n",
    "y = h + q + q * x\n",
    "y\n",
    "#draw_dot(y)"
   ]
  },
  {
   "cell_type": "code",
   "execution_count": null,
   "id": "19db05e2-b175-417f-90c0-2510d6700865",
   "metadata": {},
   "outputs": [],
   "source": [
    "#| hide\n",
    "import nbdev; nbdev.nbdev_export()"
   ]
  }
 ],
 "metadata": {
  "kernelspec": {
   "display_name": "Python 3 (ipykernel)",
   "language": "python",
   "name": "python3"
  }
 },
 "nbformat": 4,
 "nbformat_minor": 5
}
