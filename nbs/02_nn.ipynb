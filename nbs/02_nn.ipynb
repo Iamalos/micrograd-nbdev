{
 "cells": [
  {
   "cell_type": "markdown",
   "id": "64ff7cd7-6db1-4122-be42-d52e8cf82c7c",
   "metadata": {},
   "source": [
    "# nn\n",
    "> Neural Net based on `Value` nodes"
   ]
  },
  {
   "cell_type": "code",
   "execution_count": null,
   "id": "39392a4f-19fd-4ed0-9cbf-14271b6f18ac",
   "metadata": {},
   "outputs": [],
   "source": [
    "#| default_exp nn"
   ]
  },
  {
   "cell_type": "code",
   "execution_count": null,
   "id": "ae4639f8-9271-4c99-8735-0b3863d4d7b8",
   "metadata": {},
   "outputs": [
    {
     "name": "stdout",
     "output_type": "stream",
     "text": [
      "The autoreload extension is already loaded. To reload it, use:\n",
      "  %reload_ext autoreload\n"
     ]
    }
   ],
   "source": [
    "#| hide\n",
    "from micrograd_nbdev.engine import Value\n",
    "import random\n",
    "%load_ext autoreload\n",
    "%autoreload 2"
   ]
  },
  {
   "cell_type": "code",
   "execution_count": null,
   "id": "4b14e0c5-28fd-43e0-b32f-7231f1a0fe30",
   "metadata": {},
   "outputs": [],
   "source": [
    "#| export\n",
    "class Module:\n",
    "    \"Base class\"\n",
    "    def zero_grad(self):\n",
    "        for p in self.parameters():\n",
    "            p.grad = 0\n",
    "    \n",
    "    def parameters(self):\n",
    "        return []"
   ]
  },
  {
   "cell_type": "code",
   "execution_count": null,
   "id": "aec3f686-2d44-4513-ae9d-af2a58cc3f88",
   "metadata": {},
   "outputs": [],
   "source": [
    "#| export\n",
    "class Neuron(Module):\n",
    "    # Neuron is a single calculation node\n",
    "    def __init__(self,\n",
    "                 nin, # number of inputs (parameters) for each node\n",
    "                 nonlin=True # whether to use nonlinearity\n",
    "                ):\n",
    "        self.w = [Value(random.uniform(-1,1)) for _ in range(nin)]\n",
    "        self.b = Value(0)\n",
    "        self.nonlin = nonlin\n",
    "    \n",
    "    def __call__(self, x):\n",
    "        return sum([xi*wi for (xi, wi) in zip(x, self.w)]) + self.b\n",
    "    \n",
    "    def parameters(self):\n",
    "        return [weight for weight in self.w] + [self.b]\n",
    "    \n",
    "    def __repr__(self):\n",
    "        return f\"{'ReLU' if self.nonlin  else  'Linear'} Neuron({len(self.w)})\""
   ]
  },
  {
   "cell_type": "code",
   "execution_count": null,
   "id": "9e154212-c9b3-467e-a0bb-cbb9e3cb24ce",
   "metadata": {},
   "outputs": [
    {
     "data": {
      "text/plain": [
       "ReLU Neuron(5)"
      ]
     },
     "execution_count": null,
     "metadata": {},
     "output_type": "execute_result"
    }
   ],
   "source": [
    "n = Neuron(5)\n",
    "n"
   ]
  },
  {
   "cell_type": "code",
   "execution_count": null,
   "id": "7a837209-fd81-402d-ab78-e0e91c2c24d8",
   "metadata": {},
   "outputs": [
    {
     "data": {
      "text/plain": [
       "Value(data=0.6715391519237188)"
      ]
     },
     "execution_count": null,
     "metadata": {},
     "output_type": "execute_result"
    }
   ],
   "source": [
    "n([Value(1),Value(1),Value(1),Value(1),Value(1)])"
   ]
  },
  {
   "cell_type": "code",
   "execution_count": null,
   "id": "ecd7cafb-7b3f-408d-ada3-382ff5a5472d",
   "metadata": {},
   "outputs": [],
   "source": [
    "class Layer(Module):\n",
    "    def __init__(self, nin, nout, **kwargs):\n",
    "        self.neurons = [Neuron(nin, **kwargs) for _ in range(nout)]\n",
    "    \n",
    "    def __call__(self, x):\n",
    "        out = [n(x) for n in self.neurons]\n",
    "        # if nout is 1 then simple return an item rather than a list on one item\n",
    "        return out[0] if len(out) == 1 else out\n",
    "        \n",
    "    def parameters(self):\n",
    "        return [p for n in self.neurons for p in n.parameters()]\n",
    "    \n",
    "    def __repr__(self):\n",
    "        return f\"Layer of [{', '.join(str(n) for n in self.neurons)}]\"\n"
   ]
  },
  {
   "cell_type": "code",
   "execution_count": null,
   "id": "b9ec72e2-e3fd-45a5-9847-40fbb15e16aa",
   "metadata": {},
   "outputs": [],
   "source": [
    "l = Layer(2, 1)"
   ]
  },
  {
   "cell_type": "code",
   "execution_count": null,
   "id": "171de209-5f79-499a-9391-33de26f67ebe",
   "metadata": {},
   "outputs": [
    {
     "data": {
      "text/plain": [
       "[Value(data=-0.5959432833313711),\n",
       " Value(data=-0.8379611292744993),\n",
       " Value(data=0)]"
      ]
     },
     "execution_count": null,
     "metadata": {},
     "output_type": "execute_result"
    }
   ],
   "source": [
    "l.parameters()"
   ]
  },
  {
   "cell_type": "code",
   "execution_count": null,
   "id": "77cbe4ee-e88a-4491-8355-7fe1aa5abe10",
   "metadata": {},
   "outputs": [
    {
     "data": {
      "text/plain": [
       "[Value(data=-2.0298476959372413)]"
      ]
     },
     "execution_count": null,
     "metadata": {},
     "output_type": "execute_result"
    }
   ],
   "source": [
    "l([Value(2.0), Value(1.0)])"
   ]
  },
  {
   "cell_type": "code",
   "execution_count": null,
   "id": "8194df38-ecba-417a-a40f-35e6f5aea2d2",
   "metadata": {},
   "outputs": [],
   "source": []
  }
 ],
 "metadata": {
  "kernelspec": {
   "display_name": "Python 3 (ipykernel)",
   "language": "python",
   "name": "python3"
  }
 },
 "nbformat": 4,
 "nbformat_minor": 5
}
