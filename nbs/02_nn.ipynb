{
 "cells": [
  {
   "cell_type": "markdown",
   "id": "64ff7cd7-6db1-4122-be42-d52e8cf82c7c",
   "metadata": {},
   "source": [
    "# nn\n",
    "> Neural Net based on `Value` nodes"
   ]
  },
  {
   "cell_type": "code",
   "execution_count": null,
   "id": "39392a4f-19fd-4ed0-9cbf-14271b6f18ac",
   "metadata": {},
   "outputs": [],
   "source": [
    "#| default_exp nn"
   ]
  },
  {
   "cell_type": "code",
   "execution_count": null,
   "id": "35d0e4ff-105a-4686-870c-5ff57e1fecef",
   "metadata": {},
   "outputs": [],
   "source": [
    "#| export\n",
    "from micrograd_nbdev.engine import Value\n",
    "import random"
   ]
  },
  {
   "cell_type": "code",
   "execution_count": null,
   "id": "ae4639f8-9271-4c99-8735-0b3863d4d7b8",
   "metadata": {},
   "outputs": [],
   "source": [
    "#| hide\n",
    "%load_ext autoreload\n",
    "%autoreload 2"
   ]
  },
  {
   "cell_type": "markdown",
   "id": "6d6b0b7b-e3e0-42b6-8753-1ff5094ec241",
   "metadata": {},
   "source": [
    "### Neuron"
   ]
  },
  {
   "cell_type": "code",
   "execution_count": null,
   "id": "4b14e0c5-28fd-43e0-b32f-7231f1a0fe30",
   "metadata": {},
   "outputs": [],
   "source": [
    "#| export\n",
    "class Module:\n",
    "    \"Base class\"\n",
    "    def zero_grad(self):\n",
    "        for p in self.parameters():\n",
    "            p.grad = 0\n",
    "    \n",
    "    def parameters(self):\n",
    "        return []"
   ]
  },
  {
   "cell_type": "code",
   "execution_count": null,
   "id": "aec3f686-2d44-4513-ae9d-af2a58cc3f88",
   "metadata": {},
   "outputs": [],
   "source": [
    "#| export\n",
    "class Neuron(Module):\n",
    "    # Neuron is a single calculation node\n",
    "    def __init__(self,\n",
    "                 nin, # number of inputs (parameters) for each node\n",
    "                 nonlin=True # whether to use nonlinearity\n",
    "                ):\n",
    "        self.w = [Value(random.uniform(-1,1)) for _ in range(nin)]\n",
    "        self.b = Value(0)\n",
    "        self.nonlin = nonlin\n",
    "    \n",
    "    def __call__(self, x):\n",
    "        activation = sum([xi*wi for (xi, wi) in zip(x, self.w)]) + self.b\n",
    "        return activation.relu() if self.nonlin else activation\n",
    "    \n",
    "    def parameters(self):\n",
    "        return self.w + [self.b]\n",
    "    \n",
    "    def __repr__(self):\n",
    "        return f\"{'ReLU' if self.nonlin  else  'Linear'} Neuron({len(self.w)})\""
   ]
  },
  {
   "cell_type": "code",
   "execution_count": null,
   "id": "9e154212-c9b3-467e-a0bb-cbb9e3cb24ce",
   "metadata": {},
   "outputs": [
    {
     "data": {
      "text/plain": [
       "ReLU Neuron(5)"
      ]
     },
     "execution_count": null,
     "metadata": {},
     "output_type": "execute_result"
    }
   ],
   "source": [
    "n = Neuron(5)\n",
    "n"
   ]
  },
  {
   "cell_type": "code",
   "execution_count": null,
   "id": "153d194c-e241-4184-8f2a-e1d5c757959b",
   "metadata": {},
   "outputs": [
    {
     "data": {
      "text/plain": [
       "[Value(data=0.22203145250805423, grad=0),\n",
       " Value(data=0.8146914543486306, grad=0),\n",
       " Value(data=0.6845945253932413, grad=0),\n",
       " Value(data=-0.4951484752904616, grad=0),\n",
       " Value(data=0.5386153533408162, grad=0),\n",
       " Value(data=0, grad=0)]"
      ]
     },
     "execution_count": null,
     "metadata": {},
     "output_type": "execute_result"
    }
   ],
   "source": [
    "n.parameters()"
   ]
  },
  {
   "cell_type": "code",
   "execution_count": null,
   "id": "7a837209-fd81-402d-ab78-e0e91c2c24d8",
   "metadata": {},
   "outputs": [
    {
     "data": {
      "text/plain": [
       "Value(data=1.7647843103002807, grad=0)"
      ]
     },
     "execution_count": null,
     "metadata": {},
     "output_type": "execute_result"
    }
   ],
   "source": [
    "n([Value(1),Value(1),Value(1),Value(1),Value(1)])"
   ]
  },
  {
   "cell_type": "markdown",
   "id": "d359c604-1f65-44f1-9484-1d5ceb9e78bf",
   "metadata": {},
   "source": [
    "### Layer"
   ]
  },
  {
   "cell_type": "code",
   "execution_count": null,
   "id": "ecd7cafb-7b3f-408d-ada3-382ff5a5472d",
   "metadata": {},
   "outputs": [],
   "source": [
    "#| export\n",
    "class Layer(Module):\n",
    "    def __init__(self, nin, nout, **kwargs):\n",
    "        self.neurons = [Neuron(nin, **kwargs) for _ in range(nout)]\n",
    "    \n",
    "    def __call__(self, x):\n",
    "        out = [n(x) for n in self.neurons]\n",
    "        # if nout is 1 then simple return an item rather than a list on one item\n",
    "        return out[0] if len(out) == 1 else out\n",
    "        \n",
    "    def parameters(self):\n",
    "        return [p for n in self.neurons for p in n.parameters()]\n",
    "    \n",
    "    def __repr__(self):\n",
    "        return f\"Layer of [{', '.join(str(n) for n in self.neurons)}]\"\n"
   ]
  },
  {
   "cell_type": "code",
   "execution_count": null,
   "id": "b9ec72e2-e3fd-45a5-9847-40fbb15e16aa",
   "metadata": {},
   "outputs": [],
   "source": [
    "l = Layer(2, 1)"
   ]
  },
  {
   "cell_type": "code",
   "execution_count": null,
   "id": "171de209-5f79-499a-9391-33de26f67ebe",
   "metadata": {},
   "outputs": [
    {
     "data": {
      "text/plain": [
       "[Value(data=0.5815738804807384, grad=0),\n",
       " Value(data=0.05953892107866232, grad=0),\n",
       " Value(data=0, grad=0)]"
      ]
     },
     "execution_count": null,
     "metadata": {},
     "output_type": "execute_result"
    }
   ],
   "source": [
    "l.parameters()"
   ]
  },
  {
   "cell_type": "code",
   "execution_count": null,
   "id": "77cbe4ee-e88a-4491-8355-7fe1aa5abe10",
   "metadata": {},
   "outputs": [
    {
     "data": {
      "text/plain": [
       "Value(data=1.2226866820401392, grad=0)"
      ]
     },
     "execution_count": null,
     "metadata": {},
     "output_type": "execute_result"
    }
   ],
   "source": [
    "l([Value(2.0), Value(1.0)])"
   ]
  },
  {
   "cell_type": "markdown",
   "id": "cb308ef8-6257-4652-8c40-a360c5d20edf",
   "metadata": {},
   "source": [
    "### MLP"
   ]
  },
  {
   "cell_type": "code",
   "execution_count": null,
   "id": "bcdbf9c6-39d9-41f1-b0c3-76d4cf3aef01",
   "metadata": {},
   "outputs": [],
   "source": [
    "#| export\n",
    "class MLP(Module):\n",
    "    def __init__(self,\n",
    "                 nin, # number of inputs\n",
    "                 nouts # list of inputs and outputs for each subsequent Layer\n",
    "                ):\n",
    "        sz = [nin] + nouts\n",
    "        self.layers = [Layer(sz[i], sz[i+1], nonlin = i != len(nouts)-1) for i in range(len(nouts))]\n",
    "        \n",
    "    def __call__(self, x):\n",
    "        for layer in self.layers:\n",
    "            x = layer(x)\n",
    "        return x\n",
    "    \n",
    "    def parameters(self):\n",
    "        return [p for l in self.layers for p in l.parameters()]\n",
    "    \n",
    "    def __repr__(self):\n",
    "        return f\"MLP of [{', '.join(str(l) for l in self.layers)}]\""
   ]
  },
  {
   "cell_type": "code",
   "execution_count": null,
   "id": "17c5f07b-6d47-4c23-950f-138a33ef2f0a",
   "metadata": {},
   "outputs": [
    {
     "data": {
      "text/plain": [
       "MLP of [Layer of [ReLU Neuron(2), ReLU Neuron(2)], Layer of [ReLU Neuron(2), ReLU Neuron(2), ReLU Neuron(2)], Layer of [Linear Neuron(3)]]"
      ]
     },
     "execution_count": null,
     "metadata": {},
     "output_type": "execute_result"
    }
   ],
   "source": [
    "mlp = MLP(2, [2,3,1]); mlp"
   ]
  },
  {
   "cell_type": "code",
   "execution_count": null,
   "id": "05993f23-0df0-47e6-b6a0-a5ef6302c523",
   "metadata": {},
   "outputs": [
    {
     "data": {
      "text/plain": [
       "[Value(data=-0.3131668656144113, grad=0),\n",
       " Value(data=0.3020218414831064, grad=0),\n",
       " Value(data=0, grad=0),\n",
       " Value(data=-0.6735470120050717, grad=0),\n",
       " Value(data=0.094031831508395, grad=0),\n",
       " Value(data=0, grad=0),\n",
       " Value(data=0.2564691606271521, grad=0),\n",
       " Value(data=0.7674418743222038, grad=0),\n",
       " Value(data=0, grad=0),\n",
       " Value(data=0.7161034265746886, grad=0),\n",
       " Value(data=0.9779788997553842, grad=0),\n",
       " Value(data=0, grad=0),\n",
       " Value(data=0.7679712408338863, grad=0),\n",
       " Value(data=0.4858063431729067, grad=0),\n",
       " Value(data=0, grad=0),\n",
       " Value(data=0.24332452137798088, grad=0),\n",
       " Value(data=-0.7837191969171422, grad=0),\n",
       " Value(data=-0.8833600660267253, grad=0),\n",
       " Value(data=0, grad=0)]"
      ]
     },
     "execution_count": null,
     "metadata": {},
     "output_type": "execute_result"
    }
   ],
   "source": [
    "mlp.parameters()"
   ]
  },
  {
   "cell_type": "code",
   "execution_count": null,
   "id": "63434c37-22ed-48ba-a78e-2bcbc4ff04e3",
   "metadata": {},
   "outputs": [],
   "source": [
    "#| hide\n",
    "import nbdev; nbdev.nbdev_export()"
   ]
  },
  {
   "cell_type": "code",
   "execution_count": null,
   "id": "bdb6209d-081b-4d89-872b-63962df50027",
   "metadata": {},
   "outputs": [],
   "source": []
  }
 ],
 "metadata": {
  "kernelspec": {
   "display_name": "Python 3 (ipykernel)",
   "language": "python",
   "name": "python3"
  }
 },
 "nbformat": 4,
 "nbformat_minor": 5
}
